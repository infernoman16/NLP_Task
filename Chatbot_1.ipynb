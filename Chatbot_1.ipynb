{
  "nbformat": 4,
  "nbformat_minor": 0,
  "metadata": {
    "colab": {
      "name": "Chatbot_1.ipynb",
      "provenance": [],
      "authorship_tag": "ABX9TyPUc8oy04e6zcBW3DLZ+902",
      "include_colab_link": true
    },
    "kernelspec": {
      "name": "python3",
      "display_name": "Python 3"
    }
  },
  "cells": [
    {
      "cell_type": "markdown",
      "metadata": {
        "id": "view-in-github",
        "colab_type": "text"
      },
      "source": [
        "<a href=\"https://colab.research.google.com/github/infernoman16/NLP_Task/blob/main/Chatbot_1.ipynb\" target=\"_parent\"><img src=\"https://colab.research.google.com/assets/colab-badge.svg\" alt=\"Open In Colab\"/></a>"
      ]
    },
    {
      "cell_type": "code",
      "metadata": {
        "id": "5xi7faob6aOW"
      },
      "source": [
        "from google.colab import files"
      ],
      "execution_count": 1,
      "outputs": []
    },
    {
      "cell_type": "code",
      "metadata": {
        "colab": {
          "resources": {
            "http://localhost:8080/nbextensions/google.colab/files.js": {
              "data": "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",
              "ok": true,
              "headers": [
                [
                  "content-type",
                  "application/javascript"
                ]
              ],
              "status": 200,
              "status_text": ""
            }
          },
          "base_uri": "https://localhost:8080/",
          "height": 72
        },
        "id": "WSYPfqRs6_NY",
        "outputId": "351722c8-74aa-4fe2-d444-9068b5567680"
      },
      "source": [
        "up=files.upload()"
      ],
      "execution_count": 2,
      "outputs": [
        {
          "output_type": "display_data",
          "data": {
            "text/html": [
              "\n",
              "     <input type=\"file\" id=\"files-d6d2d465-6a29-4c03-87f5-eaf0709f5c13\" name=\"files[]\" multiple disabled\n",
              "        style=\"border:none\" />\n",
              "     <output id=\"result-d6d2d465-6a29-4c03-87f5-eaf0709f5c13\">\n",
              "      Upload widget is only available when the cell has been executed in the\n",
              "      current browser session. Please rerun this cell to enable.\n",
              "      </output>\n",
              "      <script src=\"/nbextensions/google.colab/files.js\"></script> "
            ],
            "text/plain": [
              "<IPython.core.display.HTML object>"
            ]
          },
          "metadata": {
            "tags": []
          }
        },
        {
          "output_type": "stream",
          "text": [
            "Saving intents.json to intents.json\n"
          ],
          "name": "stdout"
        }
      ]
    },
    {
      "cell_type": "code",
      "metadata": {
        "id": "8W_bBojB7ILR"
      },
      "source": [
        "import pandas as pd\r\n",
        "import io"
      ],
      "execution_count": 3,
      "outputs": []
    },
    {
      "cell_type": "code",
      "metadata": {
        "id": "PzMFI9jm7WEJ"
      },
      "source": [
        "df=pd.read_json(io.BytesIO(up['intents.json']))"
      ],
      "execution_count": 4,
      "outputs": []
    },
    {
      "cell_type": "code",
      "metadata": {
        "colab": {
          "base_uri": "https://localhost:8080/",
          "height": 204
        },
        "id": "tgfgbIYY7fHO",
        "outputId": "a82e038f-92cd-47c2-f6b7-a335ff9fd6f5"
      },
      "source": [
        "df.head()"
      ],
      "execution_count": 5,
      "outputs": [
        {
          "output_type": "execute_result",
          "data": {
            "text/html": [
              "<div>\n",
              "<style scoped>\n",
              "    .dataframe tbody tr th:only-of-type {\n",
              "        vertical-align: middle;\n",
              "    }\n",
              "\n",
              "    .dataframe tbody tr th {\n",
              "        vertical-align: top;\n",
              "    }\n",
              "\n",
              "    .dataframe thead th {\n",
              "        text-align: right;\n",
              "    }\n",
              "</style>\n",
              "<table border=\"1\" class=\"dataframe\">\n",
              "  <thead>\n",
              "    <tr style=\"text-align: right;\">\n",
              "      <th></th>\n",
              "      <th>intents</th>\n",
              "    </tr>\n",
              "  </thead>\n",
              "  <tbody>\n",
              "    <tr>\n",
              "      <th>0</th>\n",
              "      <td>{'tag': 'greeting', 'patterns': ['Hi there', '...</td>\n",
              "    </tr>\n",
              "    <tr>\n",
              "      <th>1</th>\n",
              "      <td>{'tag': 'goodbye', 'patterns': ['Bye', 'See yo...</td>\n",
              "    </tr>\n",
              "    <tr>\n",
              "      <th>2</th>\n",
              "      <td>{'tag': 'thanks', 'patterns': ['Thanks', 'Than...</td>\n",
              "    </tr>\n",
              "    <tr>\n",
              "      <th>3</th>\n",
              "      <td>{'tag': 'noanswer', 'patterns': [], 'responses...</td>\n",
              "    </tr>\n",
              "    <tr>\n",
              "      <th>4</th>\n",
              "      <td>{'tag': 'options', 'patterns': ['How you could...</td>\n",
              "    </tr>\n",
              "  </tbody>\n",
              "</table>\n",
              "</div>"
            ],
            "text/plain": [
              "                                             intents\n",
              "0  {'tag': 'greeting', 'patterns': ['Hi there', '...\n",
              "1  {'tag': 'goodbye', 'patterns': ['Bye', 'See yo...\n",
              "2  {'tag': 'thanks', 'patterns': ['Thanks', 'Than...\n",
              "3  {'tag': 'noanswer', 'patterns': [], 'responses...\n",
              "4  {'tag': 'options', 'patterns': ['How you could..."
            ]
          },
          "metadata": {
            "tags": []
          },
          "execution_count": 5
        }
      ]
    },
    {
      "cell_type": "code",
      "metadata": {
        "id": "gZn1QYJo7gkm"
      },
      "source": [
        "import nltk \r\n",
        "from nltk.stem import WordNetLemmatizer\r\n",
        "import json\r\n",
        "import pickle "
      ],
      "execution_count": 6,
      "outputs": []
    },
    {
      "cell_type": "code",
      "metadata": {
        "colab": {
          "base_uri": "https://localhost:8080/"
        },
        "id": "yGtfYlR99eIc",
        "outputId": "7fdc46ac-2b79-4675-ca8b-2acf14215f50"
      },
      "source": [
        "nltk.download('punkt')\r\n"
      ],
      "execution_count": 11,
      "outputs": [
        {
          "output_type": "stream",
          "text": [
            "[nltk_data] Downloading package punkt to /root/nltk_data...\n",
            "[nltk_data]   Unzipping tokenizers/punkt.zip.\n"
          ],
          "name": "stdout"
        },
        {
          "output_type": "execute_result",
          "data": {
            "text/plain": [
              "True"
            ]
          },
          "metadata": {
            "tags": []
          },
          "execution_count": 11
        }
      ]
    },
    {
      "cell_type": "code",
      "metadata": {
        "colab": {
          "base_uri": "https://localhost:8080/"
        },
        "id": "GNsTDG0b-cxd",
        "outputId": "7e6e460a-58da-466f-c96d-86b6824edaf2"
      },
      "source": [
        "nltk.download('wordnet')\r\n"
      ],
      "execution_count": 16,
      "outputs": [
        {
          "output_type": "stream",
          "text": [
            "[nltk_data] Downloading package wordnet to /root/nltk_data...\n",
            "[nltk_data]   Unzipping corpora/wordnet.zip.\n"
          ],
          "name": "stdout"
        },
        {
          "output_type": "execute_result",
          "data": {
            "text/plain": [
              "True"
            ]
          },
          "metadata": {
            "tags": []
          },
          "execution_count": 16
        }
      ]
    },
    {
      "cell_type": "code",
      "metadata": {
        "id": "Lu-5DfEo8GPp"
      },
      "source": [
        "import numpy as np\r\n",
        "from keras.models import Sequential\r\n",
        "from keras.layers import Dense, Activation, Dropout\r\n",
        "from keras.optimizers import SGD\r\n",
        "import random"
      ],
      "execution_count": 7,
      "outputs": []
    },
    {
      "cell_type": "code",
      "metadata": {
        "id": "9oJdBw708bMP"
      },
      "source": [
        "words=[]\r\n",
        "classes=[]\r\n",
        "documents=[]\r\n",
        "ignore_words=['?','!']\r\n",
        "data_file=open('intents.json').read()"
      ],
      "execution_count": 8,
      "outputs": []
    },
    {
      "cell_type": "code",
      "metadata": {
        "id": "dK5RJeNQ8q-p"
      },
      "source": [
        "intents=json.loads(data_file)"
      ],
      "execution_count": 9,
      "outputs": []
    },
    {
      "cell_type": "code",
      "metadata": {
        "id": "IY-0m_K98vzv"
      },
      "source": [
        "for intent in intents['intents']:\r\n",
        "  for pattern in intent['patterns']:\r\n",
        "    w=nltk.word_tokenize(pattern)\r\n",
        "    words.extend(w)\r\n",
        "    documents.append((w,intent['tag']))\r\n",
        "    if intent ['tag'] not in classes:\r\n",
        "      classes.append(intent['tag'])"
      ],
      "execution_count": 12,
      "outputs": []
    },
    {
      "cell_type": "code",
      "metadata": {
        "id": "sqhqNnaK-WZy"
      },
      "source": [
        "lemmatizer=WordNetLemmatizer()"
      ],
      "execution_count": 14,
      "outputs": []
    },
    {
      "cell_type": "code",
      "metadata": {
        "colab": {
          "base_uri": "https://localhost:8080/"
        },
        "id": "IBWlK8aF9UjK",
        "outputId": "b05e35bf-0175-4416-f84c-a0c8ce8ea275"
      },
      "source": [
        "words=[lemmatizer.lemmatize(w.lower()) for w in words if w not in ignore_words]\r\n",
        "words=sorted(list(set(words)))\r\n",
        "classes=sorted(list(set(classes)))\r\n",
        "print(len(documents), \"documents\")\r\n",
        "print(len(classes),\"classes\",classes)\r\n",
        "print(len(words),\"unique lemmatize words\",words)\r\n"
      ],
      "execution_count": 17,
      "outputs": [
        {
          "output_type": "stream",
          "text": [
            "47 documents\n",
            "9 classes ['adverse_drug', 'blood_pressure', 'blood_pressure_search', 'goodbye', 'greeting', 'hospital_search', 'options', 'pharmacy_search', 'thanks']\n",
            "88 unique lemmatize words [\"'s\", ',', 'a', 'adverse', 'all', 'anyone', 'are', 'awesome', 'be', 'behavior', 'blood', 'by', 'bye', 'can', 'causing', 'chatting', 'check', 'could', 'data', 'day', 'detail', 'do', 'dont', 'drug', 'entry', 'find', 'for', 'give', 'good', 'goodbye', 'have', 'hello', 'help', 'helpful', 'helping', 'hey', 'hi', 'history', 'hola', 'hospital', 'how', 'i', 'id', 'is', 'later', 'list', 'load', 'locate', 'log', 'looking', 'lookup', 'management', 'me', 'module', 'nearby', 'next', 'nice', 'of', 'offered', 'open', 'patient', 'pharmacy', 'pressure', 'provide', 'reaction', 'related', 'result', 'search', 'searching', 'see', 'show', 'suitable', 'support', 'task', 'thank', 'thanks', 'that', 'there', 'till', 'time', 'to', 'transfer', 'up', 'want', 'what', 'which', 'with', 'you']\n"
          ],
          "name": "stdout"
        }
      ]
    },
    {
      "cell_type": "code",
      "metadata": {
        "id": "XsunLpHi-Qk_"
      },
      "source": [
        "pickle.dump(words,open('words.pkl','wb'))\r\n",
        "pickle.dump(classes,open('classes.pkl','wb'))"
      ],
      "execution_count": 18,
      "outputs": []
    },
    {
      "cell_type": "code",
      "metadata": {
        "colab": {
          "base_uri": "https://localhost:8080/"
        },
        "id": "bBMwGBgC-0Tr",
        "outputId": "ecba7c17-d3cc-4aba-c957-ff3e48d4b69f"
      },
      "source": [
        "training =[]\r\n",
        "output_empty=[0]*len(classes)\r\n",
        "for doc in documents:\r\n",
        "  bag=[]\r\n",
        "  pattern_words=doc[0]\r\n",
        "  pattern_words=[lemmatizer.lemmatize(word.lower()) for word in pattern_words]\r\n",
        "for w in words:\r\n",
        "  bag.append(1) if w in pattern_words else bag.append(0)\r\n",
        "  output_row=list(output_empty)\r\n",
        "  output_row[classes.index(doc[1])]=1\r\n",
        "  training.append([bag,output_row])\r\n",
        "random.shuffle(training)\r\n",
        "training =np.array(training)\r\n",
        "train_x=list(training[:,0])\r\n",
        "train_y=list(training[:,1])\r\n",
        "print('training data created')"
      ],
      "execution_count": 19,
      "outputs": [
        {
          "output_type": "stream",
          "text": [
            "training data created\n"
          ],
          "name": "stdout"
        },
        {
          "output_type": "stream",
          "text": [
            "/usr/local/lib/python3.6/dist-packages/ipykernel_launcher.py:13: VisibleDeprecationWarning: Creating an ndarray from ragged nested sequences (which is a list-or-tuple of lists-or-tuples-or ndarrays with different lengths or shapes) is deprecated. If you meant to do this, you must specify 'dtype=object' when creating the ndarray\n",
            "  del sys.path[0]\n"
          ],
          "name": "stderr"
        }
      ]
    },
    {
      "cell_type": "code",
      "metadata": {
        "id": "8hhILe_sCDb3"
      },
      "source": [
        "model=Sequential()\r\n",
        "model.add(Dense(128, input_shape=(len(train_x[0]),), activation='relu'))\r\n",
        "model.add(Dropout(0.5))\r\n",
        "model.add(Dense(64, activation='relu'))\r\n",
        "model.add(Dropout(0.5))\r\n",
        "model.add(Dense(len(train_y[0]), activation='softmax'))"
      ],
      "execution_count": 20,
      "outputs": []
    },
    {
      "cell_type": "code",
      "metadata": {
        "id": "jwC1PdCkCiLJ"
      },
      "source": [
        "sgd = SGD(lr=0.01, decay=1e-6, momentum=0.9, nesterov=True)\r\n",
        "model.compile(loss='categorical_crossentropy', optimizer=sgd, metrics=['accuracy'])\r\n"
      ],
      "execution_count": 21,
      "outputs": []
    },
    {
      "cell_type": "code",
      "metadata": {
        "colab": {
          "base_uri": "https://localhost:8080/"
        },
        "id": "-i8Iu0tZCnZc",
        "outputId": "2b4a732b-e742-44ae-fcf1-7ec5a49e91f6"
      },
      "source": [
        "hist = model.fit(np.array(train_x), np.array(train_y), epochs=200, batch_size=5, verbose=1)\r\n"
      ],
      "execution_count": 22,
      "outputs": [
        {
          "output_type": "stream",
          "text": [
            "Epoch 1/200\n",
            "18/18 [==============================] - 1s 1ms/step - loss: 1.6788 - accuracy: 0.5595 \n",
            "Epoch 2/200\n",
            "18/18 [==============================] - 0s 1ms/step - loss: 0.0226 - accuracy: 1.0000\n",
            "Epoch 3/200\n",
            "18/18 [==============================] - 0s 1ms/step - loss: 0.0027 - accuracy: 1.0000\n",
            "Epoch 4/200\n",
            "18/18 [==============================] - 0s 1ms/step - loss: 0.0039 - accuracy: 1.0000\n",
            "Epoch 5/200\n",
            "18/18 [==============================] - 0s 1ms/step - loss: 2.1801e-04 - accuracy: 1.0000\n",
            "Epoch 6/200\n",
            "18/18 [==============================] - 0s 1ms/step - loss: 0.0022 - accuracy: 1.0000\n",
            "Epoch 7/200\n",
            "18/18 [==============================] - 0s 1ms/step - loss: 0.0019 - accuracy: 1.0000\n",
            "Epoch 8/200\n",
            "18/18 [==============================] - 0s 1ms/step - loss: 0.0013 - accuracy: 1.0000\n",
            "Epoch 9/200\n",
            "18/18 [==============================] - 0s 1ms/step - loss: 9.8056e-04 - accuracy: 1.0000\n",
            "Epoch 10/200\n",
            "18/18 [==============================] - 0s 1ms/step - loss: 0.0026 - accuracy: 1.0000\n",
            "Epoch 11/200\n",
            "18/18 [==============================] - 0s 1ms/step - loss: 0.0018 - accuracy: 1.0000\n",
            "Epoch 12/200\n",
            "18/18 [==============================] - 0s 1ms/step - loss: 7.9605e-04 - accuracy: 1.0000\n",
            "Epoch 13/200\n",
            "18/18 [==============================] - 0s 1ms/step - loss: 0.0024 - accuracy: 1.0000\n",
            "Epoch 14/200\n",
            "18/18 [==============================] - 0s 1ms/step - loss: 0.0057 - accuracy: 1.0000\n",
            "Epoch 15/200\n",
            "18/18 [==============================] - 0s 1ms/step - loss: 0.0018 - accuracy: 1.0000\n",
            "Epoch 16/200\n",
            "18/18 [==============================] - 0s 1ms/step - loss: 3.2963e-04 - accuracy: 1.0000\n",
            "Epoch 17/200\n",
            "18/18 [==============================] - 0s 1ms/step - loss: 4.4689e-04 - accuracy: 1.0000\n",
            "Epoch 18/200\n",
            "18/18 [==============================] - 0s 1ms/step - loss: 0.0010 - accuracy: 1.0000\n",
            "Epoch 19/200\n",
            "18/18 [==============================] - 0s 1ms/step - loss: 3.0673e-04 - accuracy: 1.0000\n",
            "Epoch 20/200\n",
            "18/18 [==============================] - 0s 1ms/step - loss: 0.0018 - accuracy: 1.0000\n",
            "Epoch 21/200\n",
            "18/18 [==============================] - 0s 1ms/step - loss: 9.6594e-04 - accuracy: 1.0000\n",
            "Epoch 22/200\n",
            "18/18 [==============================] - 0s 1ms/step - loss: 0.0028 - accuracy: 1.0000\n",
            "Epoch 23/200\n",
            "18/18 [==============================] - 0s 2ms/step - loss: 0.0014 - accuracy: 1.0000\n",
            "Epoch 24/200\n",
            "18/18 [==============================] - 0s 1ms/step - loss: 0.0015 - accuracy: 1.0000\n",
            "Epoch 25/200\n",
            "18/18 [==============================] - 0s 1ms/step - loss: 2.5985e-04 - accuracy: 1.0000\n",
            "Epoch 26/200\n",
            "18/18 [==============================] - 0s 1ms/step - loss: 0.0020 - accuracy: 1.0000\n",
            "Epoch 27/200\n",
            "18/18 [==============================] - 0s 1ms/step - loss: 0.0093 - accuracy: 1.0000\n",
            "Epoch 28/200\n",
            "18/18 [==============================] - 0s 1ms/step - loss: 2.1050e-04 - accuracy: 1.0000\n",
            "Epoch 29/200\n",
            "18/18 [==============================] - 0s 1ms/step - loss: 6.2673e-04 - accuracy: 1.0000\n",
            "Epoch 30/200\n",
            "18/18 [==============================] - 0s 1ms/step - loss: 0.0028 - accuracy: 1.0000\n",
            "Epoch 31/200\n",
            "18/18 [==============================] - 0s 1ms/step - loss: 2.0561e-04 - accuracy: 1.0000\n",
            "Epoch 32/200\n",
            "18/18 [==============================] - 0s 1ms/step - loss: 0.0017 - accuracy: 1.0000\n",
            "Epoch 33/200\n",
            "18/18 [==============================] - 0s 1ms/step - loss: 0.0012 - accuracy: 1.0000\n",
            "Epoch 34/200\n",
            "18/18 [==============================] - 0s 1ms/step - loss: 3.8519e-04 - accuracy: 1.0000\n",
            "Epoch 35/200\n",
            "18/18 [==============================] - 0s 1ms/step - loss: 1.1385e-04 - accuracy: 1.0000\n",
            "Epoch 36/200\n",
            "18/18 [==============================] - 0s 1ms/step - loss: 6.8709e-05 - accuracy: 1.0000\n",
            "Epoch 37/200\n",
            "18/18 [==============================] - 0s 1ms/step - loss: 3.8572e-04 - accuracy: 1.0000\n",
            "Epoch 38/200\n",
            "18/18 [==============================] - 0s 1ms/step - loss: 4.5716e-04 - accuracy: 1.0000\n",
            "Epoch 39/200\n",
            "18/18 [==============================] - 0s 1ms/step - loss: 0.0013 - accuracy: 1.0000\n",
            "Epoch 40/200\n",
            "18/18 [==============================] - 0s 1ms/step - loss: 0.0019 - accuracy: 1.0000\n",
            "Epoch 41/200\n",
            "18/18 [==============================] - 0s 1ms/step - loss: 9.2722e-04 - accuracy: 1.0000\n",
            "Epoch 42/200\n",
            "18/18 [==============================] - 0s 1ms/step - loss: 5.4627e-05 - accuracy: 1.0000\n",
            "Epoch 43/200\n",
            "18/18 [==============================] - 0s 1ms/step - loss: 4.9398e-04 - accuracy: 1.0000\n",
            "Epoch 44/200\n",
            "18/18 [==============================] - 0s 1ms/step - loss: 0.0013 - accuracy: 1.0000\n",
            "Epoch 45/200\n",
            "18/18 [==============================] - 0s 1ms/step - loss: 8.8486e-05 - accuracy: 1.0000\n",
            "Epoch 46/200\n",
            "18/18 [==============================] - 0s 1ms/step - loss: 7.5141e-04 - accuracy: 1.0000\n",
            "Epoch 47/200\n",
            "18/18 [==============================] - 0s 1ms/step - loss: 4.6457e-05 - accuracy: 1.0000\n",
            "Epoch 48/200\n",
            "18/18 [==============================] - 0s 1ms/step - loss: 0.0183 - accuracy: 1.0000\n",
            "Epoch 49/200\n",
            "18/18 [==============================] - 0s 1ms/step - loss: 0.0049 - accuracy: 1.0000\n",
            "Epoch 50/200\n",
            "18/18 [==============================] - 0s 1ms/step - loss: 2.6663e-04 - accuracy: 1.0000\n",
            "Epoch 51/200\n",
            "18/18 [==============================] - 0s 1ms/step - loss: 0.0011 - accuracy: 1.0000\n",
            "Epoch 52/200\n",
            "18/18 [==============================] - 0s 1ms/step - loss: 5.6100e-05 - accuracy: 1.0000\n",
            "Epoch 53/200\n",
            "18/18 [==============================] - 0s 1ms/step - loss: 5.6814e-04 - accuracy: 1.0000\n",
            "Epoch 54/200\n",
            "18/18 [==============================] - 0s 2ms/step - loss: 3.6283e-04 - accuracy: 1.0000\n",
            "Epoch 55/200\n",
            "18/18 [==============================] - 0s 1ms/step - loss: 6.1453e-04 - accuracy: 1.0000\n",
            "Epoch 56/200\n",
            "18/18 [==============================] - 0s 1ms/step - loss: 2.1226e-05 - accuracy: 1.0000\n",
            "Epoch 57/200\n",
            "18/18 [==============================] - 0s 1ms/step - loss: 1.2753e-04 - accuracy: 1.0000\n",
            "Epoch 58/200\n",
            "18/18 [==============================] - 0s 1ms/step - loss: 9.8831e-05 - accuracy: 1.0000\n",
            "Epoch 59/200\n",
            "18/18 [==============================] - 0s 1ms/step - loss: 5.0299e-04 - accuracy: 1.0000\n",
            "Epoch 60/200\n",
            "18/18 [==============================] - 0s 2ms/step - loss: 6.4817e-05 - accuracy: 1.0000\n",
            "Epoch 61/200\n",
            "18/18 [==============================] - 0s 1ms/step - loss: 3.9681e-04 - accuracy: 1.0000\n",
            "Epoch 62/200\n",
            "18/18 [==============================] - 0s 1ms/step - loss: 4.9672e-05 - accuracy: 1.0000\n",
            "Epoch 63/200\n",
            "18/18 [==============================] - 0s 1ms/step - loss: 1.4365e-04 - accuracy: 1.0000\n",
            "Epoch 64/200\n",
            "18/18 [==============================] - 0s 1ms/step - loss: 2.4274e-04 - accuracy: 1.0000\n",
            "Epoch 65/200\n",
            "18/18 [==============================] - 0s 1ms/step - loss: 8.4942e-05 - accuracy: 1.0000\n",
            "Epoch 66/200\n",
            "18/18 [==============================] - 0s 1ms/step - loss: 1.0446e-04 - accuracy: 1.0000\n",
            "Epoch 67/200\n",
            "18/18 [==============================] - 0s 1ms/step - loss: 6.9516e-05 - accuracy: 1.0000\n",
            "Epoch 68/200\n",
            "18/18 [==============================] - 0s 1ms/step - loss: 1.3421e-04 - accuracy: 1.0000\n",
            "Epoch 69/200\n",
            "18/18 [==============================] - 0s 1ms/step - loss: 1.6585e-05 - accuracy: 1.0000\n",
            "Epoch 70/200\n",
            "18/18 [==============================] - 0s 2ms/step - loss: 1.6054e-04 - accuracy: 1.0000\n",
            "Epoch 71/200\n",
            "18/18 [==============================] - 0s 1ms/step - loss: 2.0720e-04 - accuracy: 1.0000\n",
            "Epoch 72/200\n",
            "18/18 [==============================] - 0s 1ms/step - loss: 2.7345e-04 - accuracy: 1.0000\n",
            "Epoch 73/200\n",
            "18/18 [==============================] - 0s 1ms/step - loss: 1.6398e-04 - accuracy: 1.0000\n",
            "Epoch 74/200\n",
            "18/18 [==============================] - 0s 1ms/step - loss: 3.1376e-04 - accuracy: 1.0000\n",
            "Epoch 75/200\n",
            "18/18 [==============================] - 0s 1ms/step - loss: 7.7490e-05 - accuracy: 1.0000\n",
            "Epoch 76/200\n",
            "18/18 [==============================] - 0s 1ms/step - loss: 3.0415e-04 - accuracy: 1.0000\n",
            "Epoch 77/200\n",
            "18/18 [==============================] - 0s 2ms/step - loss: 7.2256e-04 - accuracy: 1.0000\n",
            "Epoch 78/200\n",
            "18/18 [==============================] - 0s 1ms/step - loss: 2.6600e-04 - accuracy: 1.0000\n",
            "Epoch 79/200\n",
            "18/18 [==============================] - 0s 1ms/step - loss: 1.8215e-04 - accuracy: 1.0000\n",
            "Epoch 80/200\n",
            "18/18 [==============================] - 0s 1ms/step - loss: 0.0034 - accuracy: 1.0000\n",
            "Epoch 81/200\n",
            "18/18 [==============================] - 0s 1ms/step - loss: 4.1162e-05 - accuracy: 1.0000\n",
            "Epoch 82/200\n",
            "18/18 [==============================] - 0s 2ms/step - loss: 1.5289e-04 - accuracy: 1.0000\n",
            "Epoch 83/200\n",
            "18/18 [==============================] - 0s 1ms/step - loss: 4.2918e-05 - accuracy: 1.0000\n",
            "Epoch 84/200\n",
            "18/18 [==============================] - 0s 1ms/step - loss: 1.3741e-05 - accuracy: 1.0000\n",
            "Epoch 85/200\n",
            "18/18 [==============================] - 0s 1ms/step - loss: 2.3735e-05 - accuracy: 1.0000\n",
            "Epoch 86/200\n",
            "18/18 [==============================] - 0s 1ms/step - loss: 5.6777e-05 - accuracy: 1.0000\n",
            "Epoch 87/200\n",
            "18/18 [==============================] - 0s 1ms/step - loss: 5.3448e-05 - accuracy: 1.0000\n",
            "Epoch 88/200\n",
            "18/18 [==============================] - 0s 1ms/step - loss: 7.5864e-05 - accuracy: 1.0000\n",
            "Epoch 89/200\n",
            "18/18 [==============================] - 0s 1ms/step - loss: 5.4415e-04 - accuracy: 1.0000\n",
            "Epoch 90/200\n",
            "18/18 [==============================] - 0s 1ms/step - loss: 9.6864e-05 - accuracy: 1.0000\n",
            "Epoch 91/200\n",
            "18/18 [==============================] - 0s 1ms/step - loss: 2.2665e-04 - accuracy: 1.0000\n",
            "Epoch 92/200\n",
            "18/18 [==============================] - 0s 1ms/step - loss: 6.1549e-05 - accuracy: 1.0000\n",
            "Epoch 93/200\n",
            "18/18 [==============================] - 0s 1ms/step - loss: 5.4086e-04 - accuracy: 1.0000\n",
            "Epoch 94/200\n",
            "18/18 [==============================] - 0s 2ms/step - loss: 2.4649e-06 - accuracy: 1.0000\n",
            "Epoch 95/200\n",
            "18/18 [==============================] - 0s 2ms/step - loss: 5.0527e-05 - accuracy: 1.0000\n",
            "Epoch 96/200\n",
            "18/18 [==============================] - 0s 1ms/step - loss: 1.8703e-05 - accuracy: 1.0000\n",
            "Epoch 97/200\n",
            "18/18 [==============================] - 0s 1ms/step - loss: 4.5937e-05 - accuracy: 1.0000\n",
            "Epoch 98/200\n",
            "18/18 [==============================] - 0s 1ms/step - loss: 2.3084e-05 - accuracy: 1.0000\n",
            "Epoch 99/200\n",
            "18/18 [==============================] - 0s 1ms/step - loss: 4.2794e-04 - accuracy: 1.0000\n",
            "Epoch 100/200\n",
            "18/18 [==============================] - 0s 1ms/step - loss: 1.5864e-04 - accuracy: 1.0000\n",
            "Epoch 101/200\n",
            "18/18 [==============================] - 0s 1ms/step - loss: 2.2544e-04 - accuracy: 1.0000\n",
            "Epoch 102/200\n",
            "18/18 [==============================] - 0s 1ms/step - loss: 2.8607e-04 - accuracy: 1.0000\n",
            "Epoch 103/200\n",
            "18/18 [==============================] - 0s 1ms/step - loss: 5.8775e-04 - accuracy: 1.0000\n",
            "Epoch 104/200\n",
            "18/18 [==============================] - 0s 1ms/step - loss: 4.6982e-05 - accuracy: 1.0000\n",
            "Epoch 105/200\n",
            "18/18 [==============================] - 0s 1ms/step - loss: 8.8988e-05 - accuracy: 1.0000\n",
            "Epoch 106/200\n",
            "18/18 [==============================] - 0s 1ms/step - loss: 1.9020e-05 - accuracy: 1.0000\n",
            "Epoch 107/200\n",
            "18/18 [==============================] - 0s 1ms/step - loss: 1.5355e-04 - accuracy: 1.0000\n",
            "Epoch 108/200\n",
            "18/18 [==============================] - 0s 1ms/step - loss: 1.1555e-05 - accuracy: 1.0000\n",
            "Epoch 109/200\n",
            "18/18 [==============================] - 0s 1ms/step - loss: 0.0011 - accuracy: 1.0000\n",
            "Epoch 110/200\n",
            "18/18 [==============================] - 0s 1ms/step - loss: 0.0025 - accuracy: 1.0000\n",
            "Epoch 111/200\n",
            "18/18 [==============================] - 0s 1ms/step - loss: 3.8394e-04 - accuracy: 1.0000\n",
            "Epoch 112/200\n",
            "18/18 [==============================] - 0s 1ms/step - loss: 0.0027 - accuracy: 1.0000\n",
            "Epoch 113/200\n",
            "18/18 [==============================] - 0s 1ms/step - loss: 2.0711e-04 - accuracy: 1.0000\n",
            "Epoch 114/200\n",
            "18/18 [==============================] - 0s 1ms/step - loss: 5.1039e-05 - accuracy: 1.0000\n",
            "Epoch 115/200\n",
            "18/18 [==============================] - 0s 1ms/step - loss: 1.3866e-05 - accuracy: 1.0000\n",
            "Epoch 116/200\n",
            "18/18 [==============================] - 0s 2ms/step - loss: 8.5414e-06 - accuracy: 1.0000\n",
            "Epoch 117/200\n",
            "18/18 [==============================] - 0s 1ms/step - loss: 9.2060e-04 - accuracy: 1.0000\n",
            "Epoch 118/200\n",
            "18/18 [==============================] - 0s 1ms/step - loss: 1.2141e-04 - accuracy: 1.0000\n",
            "Epoch 119/200\n",
            "18/18 [==============================] - 0s 1ms/step - loss: 1.9133e-04 - accuracy: 1.0000\n",
            "Epoch 120/200\n",
            "18/18 [==============================] - 0s 1ms/step - loss: 1.4899e-04 - accuracy: 1.0000\n",
            "Epoch 121/200\n",
            "18/18 [==============================] - 0s 1ms/step - loss: 4.0825e-05 - accuracy: 1.0000\n",
            "Epoch 122/200\n",
            "18/18 [==============================] - 0s 1ms/step - loss: 3.2474e-05 - accuracy: 1.0000\n",
            "Epoch 123/200\n",
            "18/18 [==============================] - 0s 2ms/step - loss: 7.2800e-05 - accuracy: 1.0000\n",
            "Epoch 124/200\n",
            "18/18 [==============================] - 0s 1ms/step - loss: 6.3084e-05 - accuracy: 1.0000\n",
            "Epoch 125/200\n",
            "18/18 [==============================] - 0s 1ms/step - loss: 3.8900e-05 - accuracy: 1.0000\n",
            "Epoch 126/200\n",
            "18/18 [==============================] - 0s 1ms/step - loss: 1.1897e-04 - accuracy: 1.0000\n",
            "Epoch 127/200\n",
            "18/18 [==============================] - 0s 1ms/step - loss: 1.9256e-04 - accuracy: 1.0000\n",
            "Epoch 128/200\n",
            "18/18 [==============================] - 0s 1ms/step - loss: 5.9885e-05 - accuracy: 1.0000\n",
            "Epoch 129/200\n",
            "18/18 [==============================] - 0s 1ms/step - loss: 1.0231e-05 - accuracy: 1.0000\n",
            "Epoch 130/200\n",
            "18/18 [==============================] - 0s 1ms/step - loss: 1.1267e-05 - accuracy: 1.0000\n",
            "Epoch 131/200\n",
            "18/18 [==============================] - 0s 1ms/step - loss: 2.4987e-05 - accuracy: 1.0000\n",
            "Epoch 132/200\n",
            "18/18 [==============================] - 0s 1ms/step - loss: 6.0670e-04 - accuracy: 1.0000\n",
            "Epoch 133/200\n",
            "18/18 [==============================] - 0s 1ms/step - loss: 0.0010 - accuracy: 1.0000\n",
            "Epoch 134/200\n",
            "18/18 [==============================] - 0s 1ms/step - loss: 3.8616e-04 - accuracy: 1.0000\n",
            "Epoch 135/200\n",
            "18/18 [==============================] - 0s 1ms/step - loss: 9.5865e-05 - accuracy: 1.0000\n",
            "Epoch 136/200\n",
            "18/18 [==============================] - 0s 1ms/step - loss: 7.0297e-05 - accuracy: 1.0000\n",
            "Epoch 137/200\n",
            "18/18 [==============================] - 0s 1ms/step - loss: 1.2119e-04 - accuracy: 1.0000\n",
            "Epoch 138/200\n",
            "18/18 [==============================] - 0s 1ms/step - loss: 1.9130e-05 - accuracy: 1.0000\n",
            "Epoch 139/200\n",
            "18/18 [==============================] - 0s 1ms/step - loss: 3.0419e-05 - accuracy: 1.0000\n",
            "Epoch 140/200\n",
            "18/18 [==============================] - 0s 1ms/step - loss: 6.9092e-05 - accuracy: 1.0000\n",
            "Epoch 141/200\n",
            "18/18 [==============================] - 0s 1ms/step - loss: 7.2223e-05 - accuracy: 1.0000\n",
            "Epoch 142/200\n",
            "18/18 [==============================] - 0s 1ms/step - loss: 8.4959e-05 - accuracy: 1.0000\n",
            "Epoch 143/200\n",
            "18/18 [==============================] - 0s 2ms/step - loss: 1.2661e-04 - accuracy: 1.0000\n",
            "Epoch 144/200\n",
            "18/18 [==============================] - 0s 2ms/step - loss: 1.6246e-04 - accuracy: 1.0000\n",
            "Epoch 145/200\n",
            "18/18 [==============================] - 0s 1ms/step - loss: 2.8111e-05 - accuracy: 1.0000\n",
            "Epoch 146/200\n",
            "18/18 [==============================] - 0s 1ms/step - loss: 3.7586e-05 - accuracy: 1.0000\n",
            "Epoch 147/200\n",
            "18/18 [==============================] - 0s 1ms/step - loss: 6.7032e-06 - accuracy: 1.0000\n",
            "Epoch 148/200\n",
            "18/18 [==============================] - 0s 1ms/step - loss: 5.0012e-06 - accuracy: 1.0000\n",
            "Epoch 149/200\n",
            "18/18 [==============================] - 0s 1ms/step - loss: 2.6653e-05 - accuracy: 1.0000\n",
            "Epoch 150/200\n",
            "18/18 [==============================] - 0s 1ms/step - loss: 7.3008e-05 - accuracy: 1.0000\n",
            "Epoch 151/200\n",
            "18/18 [==============================] - 0s 1ms/step - loss: 1.1106e-05 - accuracy: 1.0000\n",
            "Epoch 152/200\n",
            "18/18 [==============================] - 0s 1ms/step - loss: 5.3185e-04 - accuracy: 1.0000\n",
            "Epoch 153/200\n",
            "18/18 [==============================] - 0s 2ms/step - loss: 8.7820e-05 - accuracy: 1.0000\n",
            "Epoch 154/200\n",
            "18/18 [==============================] - 0s 1ms/step - loss: 1.9049e-05 - accuracy: 1.0000\n",
            "Epoch 155/200\n",
            "18/18 [==============================] - 0s 1ms/step - loss: 1.6540e-05 - accuracy: 1.0000\n",
            "Epoch 156/200\n",
            "18/18 [==============================] - 0s 2ms/step - loss: 2.7993e-04 - accuracy: 1.0000\n",
            "Epoch 157/200\n",
            "18/18 [==============================] - 0s 1ms/step - loss: 4.0181e-04 - accuracy: 1.0000\n",
            "Epoch 158/200\n",
            "18/18 [==============================] - 0s 2ms/step - loss: 2.3873e-05 - accuracy: 1.0000\n",
            "Epoch 159/200\n",
            "18/18 [==============================] - 0s 1ms/step - loss: 4.4563e-06 - accuracy: 1.0000\n",
            "Epoch 160/200\n",
            "18/18 [==============================] - 0s 1ms/step - loss: 9.9903e-06 - accuracy: 1.0000\n",
            "Epoch 161/200\n",
            "18/18 [==============================] - 0s 1ms/step - loss: 7.8596e-05 - accuracy: 1.0000\n",
            "Epoch 162/200\n",
            "18/18 [==============================] - 0s 1ms/step - loss: 7.3352e-04 - accuracy: 1.0000\n",
            "Epoch 163/200\n",
            "18/18 [==============================] - 0s 1ms/step - loss: 1.1204e-05 - accuracy: 1.0000\n",
            "Epoch 164/200\n",
            "18/18 [==============================] - 0s 1ms/step - loss: 2.2788e-05 - accuracy: 1.0000\n",
            "Epoch 165/200\n",
            "18/18 [==============================] - 0s 2ms/step - loss: 6.6663e-05 - accuracy: 1.0000\n",
            "Epoch 166/200\n",
            "18/18 [==============================] - 0s 1ms/step - loss: 2.4746e-05 - accuracy: 1.0000\n",
            "Epoch 167/200\n",
            "18/18 [==============================] - 0s 2ms/step - loss: 8.1196e-04 - accuracy: 1.0000\n",
            "Epoch 168/200\n",
            "18/18 [==============================] - 0s 1ms/step - loss: 5.0712e-05 - accuracy: 1.0000\n",
            "Epoch 169/200\n",
            "18/18 [==============================] - 0s 1ms/step - loss: 1.0496e-04 - accuracy: 1.0000\n",
            "Epoch 170/200\n",
            "18/18 [==============================] - 0s 1ms/step - loss: 5.0878e-06 - accuracy: 1.0000\n",
            "Epoch 171/200\n",
            "18/18 [==============================] - 0s 1ms/step - loss: 1.8144e-04 - accuracy: 1.0000\n",
            "Epoch 172/200\n",
            "18/18 [==============================] - 0s 1ms/step - loss: 0.0046 - accuracy: 1.0000\n",
            "Epoch 173/200\n",
            "18/18 [==============================] - 0s 1ms/step - loss: 6.0784e-05 - accuracy: 1.0000\n",
            "Epoch 174/200\n",
            "18/18 [==============================] - 0s 1ms/step - loss: 5.1946e-06 - accuracy: 1.0000\n",
            "Epoch 175/200\n",
            "18/18 [==============================] - 0s 1ms/step - loss: 8.2546e-06 - accuracy: 1.0000\n",
            "Epoch 176/200\n",
            "18/18 [==============================] - 0s 1ms/step - loss: 5.3910e-06 - accuracy: 1.0000\n",
            "Epoch 177/200\n",
            "18/18 [==============================] - 0s 1ms/step - loss: 6.8883e-05 - accuracy: 1.0000\n",
            "Epoch 178/200\n",
            "18/18 [==============================] - 0s 2ms/step - loss: 7.2476e-05 - accuracy: 1.0000\n",
            "Epoch 179/200\n",
            "18/18 [==============================] - 0s 1ms/step - loss: 7.6406e-06 - accuracy: 1.0000\n",
            "Epoch 180/200\n",
            "18/18 [==============================] - 0s 1ms/step - loss: 1.4823e-05 - accuracy: 1.0000\n",
            "Epoch 181/200\n",
            "18/18 [==============================] - 0s 1ms/step - loss: 1.0029e-05 - accuracy: 1.0000\n",
            "Epoch 182/200\n",
            "18/18 [==============================] - 0s 1ms/step - loss: 1.4805e-05 - accuracy: 1.0000\n",
            "Epoch 183/200\n",
            "18/18 [==============================] - 0s 1ms/step - loss: 1.9724e-05 - accuracy: 1.0000\n",
            "Epoch 184/200\n",
            "18/18 [==============================] - 0s 1ms/step - loss: 1.7087e-05 - accuracy: 1.0000\n",
            "Epoch 185/200\n",
            "18/18 [==============================] - 0s 1ms/step - loss: 5.6498e-05 - accuracy: 1.0000\n",
            "Epoch 186/200\n",
            "18/18 [==============================] - 0s 1ms/step - loss: 1.3253e-04 - accuracy: 1.0000\n",
            "Epoch 187/200\n",
            "18/18 [==============================] - 0s 1ms/step - loss: 1.4933e-05 - accuracy: 1.0000\n",
            "Epoch 188/200\n",
            "18/18 [==============================] - 0s 2ms/step - loss: 6.8902e-05 - accuracy: 1.0000\n",
            "Epoch 189/200\n",
            "18/18 [==============================] - 0s 1ms/step - loss: 1.4194e-05 - accuracy: 1.0000\n",
            "Epoch 190/200\n",
            "18/18 [==============================] - 0s 1ms/step - loss: 5.9610e-05 - accuracy: 1.0000\n",
            "Epoch 191/200\n",
            "18/18 [==============================] - 0s 1ms/step - loss: 1.1505e-04 - accuracy: 1.0000\n",
            "Epoch 192/200\n",
            "18/18 [==============================] - 0s 1ms/step - loss: 7.9465e-05 - accuracy: 1.0000\n",
            "Epoch 193/200\n",
            "18/18 [==============================] - 0s 1ms/step - loss: 0.0045 - accuracy: 1.0000\n",
            "Epoch 194/200\n",
            "18/18 [==============================] - 0s 1ms/step - loss: 4.5479e-06 - accuracy: 1.0000\n",
            "Epoch 195/200\n",
            "18/18 [==============================] - 0s 1ms/step - loss: 9.0554e-05 - accuracy: 1.0000\n",
            "Epoch 196/200\n",
            "18/18 [==============================] - 0s 1ms/step - loss: 3.3558e-05 - accuracy: 1.0000\n",
            "Epoch 197/200\n",
            "18/18 [==============================] - 0s 1ms/step - loss: 2.3021e-05 - accuracy: 1.0000\n",
            "Epoch 198/200\n",
            "18/18 [==============================] - 0s 1ms/step - loss: 9.4894e-06 - accuracy: 1.0000\n",
            "Epoch 199/200\n",
            "18/18 [==============================] - 0s 1ms/step - loss: 2.0206e-05 - accuracy: 1.0000\n",
            "Epoch 200/200\n",
            "18/18 [==============================] - 0s 2ms/step - loss: 3.4522e-05 - accuracy: 1.0000\n"
          ],
          "name": "stdout"
        }
      ]
    },
    {
      "cell_type": "code",
      "metadata": {
        "colab": {
          "base_uri": "https://localhost:8080/"
        },
        "id": "PnO9bwZOCpUG",
        "outputId": "b48cf7dc-db04-4fff-8611-209762a1d57b"
      },
      "source": [
        "model.save('chatbot_model.h5', hist)\r\n",
        "\r\n",
        "print(\"model created\")"
      ],
      "execution_count": 23,
      "outputs": [
        {
          "output_type": "stream",
          "text": [
            "model created\n"
          ],
          "name": "stdout"
        }
      ]
    },
    {
      "cell_type": "code",
      "metadata": {
        "id": "21mEytYpCv0Y"
      },
      "source": [
        "from keras.models import load_model\r\n",
        "model = load_model('chatbot_model.h5')\r\n",
        "intents = json.loads(open('intents.json').read())\r\n",
        "words = pickle.load(open('words.pkl','rb'))\r\n",
        "classes = pickle.load(open('classes.pkl','rb'))"
      ],
      "execution_count": 26,
      "outputs": []
    },
    {
      "cell_type": "code",
      "metadata": {
        "id": "KlXkkPuhEf_A"
      },
      "source": [
        "def clean_up_sentence(sentence):\r\n",
        "  sentence_words = nltk.word_tokenize(sentence)\r\n",
        "  sentence_words = [lemmatizer.lemmatize(word.lower()) for word in sentence_words]\r\n",
        "  return sentence_words\r\n"
      ],
      "execution_count": 27,
      "outputs": []
    },
    {
      "cell_type": "code",
      "metadata": {
        "id": "eUyJBLXQHzst"
      },
      "source": [
        "def bow(sentence, words, show_details=True):\r\n",
        "  sentence_words = clean_up_sentence(sentence)\r\n",
        "  bag = [0]*len(words) \r\n",
        "  for s in sentence_words:\r\n",
        "    for i,w in enumerate(words):\r\n",
        "      if w == s:\r\n",
        "        bag[i] = 1\r\n",
        "        if show_details:\r\n",
        "          print (\"found in bag: %s\" % w)\r\n",
        "  return(np.array(bag))\r\n"
      ],
      "execution_count": 28,
      "outputs": []
    },
    {
      "cell_type": "code",
      "metadata": {
        "id": "ASUwFt3LIG7F"
      },
      "source": [
        "def predict_class(sentence, model):\r\n",
        "  p = bow(sentence, words,show_details=False)\r\n",
        "  res = model.predict(np.array([p]))[0]\r\n",
        "  ERROR_THRESHOLD = 0.25\r\n",
        "  results = [[i,r] for i,r in enumerate(res) if r>ERROR_THRESHOLD]\r\n",
        "  results.sort(key=lambda x: x[1], reverse=True)\r\n",
        "  return_list = []\r\n",
        "  for r in results:\r\n",
        "    return_list.append({\"intent\": classes[r[0]], \"probability\": str(r[1])})\r\n",
        "  return return_list\r\n"
      ],
      "execution_count": 29,
      "outputs": []
    },
    {
      "cell_type": "code",
      "metadata": {
        "id": "7bi4W81kISaV"
      },
      "source": [
        "def getResponse(ints, intents_json):\r\n",
        "  tag = ints[0]['intent']\r\n",
        "  list_of_intents = intents_json['intents']\r\n",
        "  for i in list_of_intents:\r\n",
        "    if(i['tag']== tag):\r\n",
        "      result = random.choice(i['responses'])\r\n",
        "      break\r\n",
        "  return result\r\n",
        "\r\n",
        "def chatbot_response(text):\r\n",
        "  ints = predict_class(text, model)\r\n",
        "  res = getResponse(ints, intents)\r\n",
        "  return res"
      ],
      "execution_count": 30,
      "outputs": []
    },
    {
      "cell_type": "code",
      "metadata": {
        "id": "TwsUC5BKLvyw"
      },
      "source": [
        ""
      ],
      "execution_count": 33,
      "outputs": []
    },
    {
      "cell_type": "code",
      "metadata": {
        "id": "NKPGPbHnL1Ej"
      },
      "source": [
        ""
      ],
      "execution_count": 33,
      "outputs": []
    },
    {
      "cell_type": "code",
      "metadata": {
        "id": "ICzl3KDsMBHh"
      },
      "source": [
        ""
      ],
      "execution_count": 33,
      "outputs": []
    },
    {
      "cell_type": "code",
      "metadata": {
        "id": "XDxuHgCYMSmN"
      },
      "source": [
        ""
      ],
      "execution_count": null,
      "outputs": []
    }
  ]
}